{
 "cells": [
  {
   "cell_type": "markdown",
   "id": "6786e620",
   "metadata": {},
   "source": [
    "# Estimating the Energy Density of a U(1) Lattice Gauge Theory"
   ]
  },
  {
   "cell_type": "code",
   "execution_count": 1,
   "id": "cf068384",
   "metadata": {},
   "outputs": [],
   "source": [
    "#Katherine Van Kirk\n",
    "#kvankirk@g.harvard.edu\n",
    "\n",
    "# This code works with a U(1) Lattice Gauge Theory of stacked triangular plaquettes. \n",
    "# See eqn 4.1 in https://arxiv.org/pdf/2002.10028.pdf \n",
    "# Details behind the code implementation may be found in Appendix F. "
   ]
  },
  {
   "cell_type": "code",
   "execution_count": 2,
   "id": "aff22754",
   "metadata": {},
   "outputs": [],
   "source": [
    "# Packages\n",
    "import numpy as np\n",
    "from numpy import linalg\n",
    "import matplotlib.pyplot as plt\n",
    "import copy\n",
    "import math\n",
    "from math import e\n",
    "import random \n",
    "import ast\n",
    "import time\n",
    "import scipy.sparse\n",
    "from scipy.sparse import csr_matrix, csc_matrix\n",
    "from scipy.sparse.linalg import svds, eigs\n",
    "from itertools import permutations\n",
    "from scipy.stats import unitary_group\n",
    "from numpy.random import choice\n",
    "from scipy.linalg import null_space, expm\n",
    "from scipy.linalg import norm\n",
    "from scipy.stats import unitary_group\n",
    "from sklearn.model_selection import train_test_split\n",
    "from sklearn import datasets\n",
    "from sklearn import svm\n",
    "import jax\n",
    "from neural_tangents import stax\n",
    "from sklearn.ensemble import RandomForestRegressor\n",
    "import seaborn as sns\n",
    "import copy\n",
    "from os import path\n",
    "from sklearn.ensemble import GradientBoostingRegressor\n",
    "from sklearn.kernel_ridge import KernelRidge\n",
    "\n",
    "# Pauli Matrices\n",
    "I = np.array([[1,0],[0,1]])\n",
    "X = np.array([[0,1],[1,0]])\n",
    "Y = np.array([[0,-1j],[1j,0]],dtype=complex)\n",
    "Z = np.array([[1,0],[0,-1]])"
   ]
  },
  {
   "cell_type": "markdown",
   "id": "fb79f1d9",
   "metadata": {},
   "source": [
    "# Helper Functions"
   ]
  },
  {
   "cell_type": "markdown",
   "id": "46a84fec",
   "metadata": {},
   "source": [
    "### A. Helper Functions for Creating Global Parameters"
   ]
  },
  {
   "cell_type": "code",
   "execution_count": 3,
   "id": "8130e54c",
   "metadata": {},
   "outputs": [],
   "source": [
    "# DESCRIPTION: Discretize SU(2) by randomly choosing S unitaries from SU(2). Make a big datavector, where each entry\n",
    "# is a different SU(2) matrix.\n",
    "def discretize_su2(S):\n",
    "    unitariesToKeep = []\n",
    "    for x in range(S):\n",
    "        V = unitary_group.rvs(2) #U(2)\n",
    "        unitariesToKeep.append(V)\n",
    "    return unitariesToKeep\n",
    "\n",
    "# DESCRIPTION: This function seeds the first unitaries in the global variable set su2nitaries with unitaries we will\n",
    "# use to define unbiased versions of the operators of interest. \n",
    "# LIST OF SEEDED UNITARIES:\n",
    "#   (0) Z -> X (Hadamard)\n",
    "#   (1) Z -> (X+Y) / sqrt2\n",
    "#   (2) Z -> (X-Y) / sqrt2\n",
    "#   (3) Z -> Z (Identity)\n",
    "#   (4) Z -> Y\n",
    "def seedsu2nitaries():\n",
    "    #create the unitaries that take (1) Z -> X+Y and (2) Z -> X-Y\n",
    "    H = [[np.cos(math.pi/4),np.sin(math.pi/4)],[-np.sin(math.pi/4),np.cos(math.pi/4)]] #Hadamard\n",
    "    XYplaneP = [[e ** (0+math.pi*0.125j),0],[0,e ** (0-math.pi*0.125j)]] #45deg rotation CCW\n",
    "    XYplaneM = [[e ** (0-math.pi*0.125j),0],[0,e ** (0+math.pi*0.125j)]] #45deg rotation CW\n",
    "\n",
    "    XpY = np.matrix(np.matmul(H,XYplaneP)) #This unitary takes Z -> X+Y\n",
    "    XmY = np.matrix(np.matmul(H,XYplaneM)) #This unitary takes Z -> X-Y\n",
    "    \n",
    "    #create the unitary that takes (4) Z -> Y\n",
    "    Yplane = [[e ** (0+math.pi*0.25j),0],[0,e ** (0-math.pi*0.25j)]] #90deg rotation CCW\n",
    "    ZtoY = np.matrix(np.matmul(H,Yplane))#This unitary takes Z -> Y\n",
    "    \n",
    "    #Update su2nitaries\n",
    "    su2nitaries[0]=np.multiply(1/np.sqrt(2),[[1,1],[1,-1]])\n",
    "    su2nitaries[1]=XpY\n",
    "    su2nitaries[2]=XmY\n",
    "    su2nitaries[3]=np.identity(2)\n",
    "    su2nitaries[4]=ZtoY\n",
    "\n",
    "# DESCRIPTION: In many cases, we need \\ket{b}\\bra{b} for all computational basis states b. This function makes a list\n",
    "# of these for a certain number of qubits n\n",
    "def makeBBlist(n):\n",
    "    return [makebbvector(b,n) for b in range(2**n)]\n",
    "\n",
    "# DESCRIPTION: Just like we have the su2nitaries global variable, we also want a list of the same random su(2) \n",
    "# unitaries, but we want them tensored together n times. This function creates two versions of this list: (1) tensored\n",
    "# n times and (2) hermitian conjugate of tensored n times. \n",
    "def tensorVersionSU2nitaries(n):\n",
    "    tensorn = [np.matrix(tensorntimes(su2nitaries[v],n)) for v in range(len(su2nitaries))]\n",
    "    tensornH = [tensorntimes(np.matrix(su2nitaries[v]).getH(),n) for v in range(len(su2nitaries))]\n",
    "    return (tensorn,tensornH)\n",
    "\n",
    "# DESCRIPTION: Using the global vectors of V \\tensor n and \\ket{b}\\bra{b}, this function creates a vector of all \n",
    "# V^\\dagger \\ket{b}\\bra{b} V matrices, and they are indexed according to the convention described at the start of this code \n",
    "# block.\n",
    "def constructVBBVvector():\n",
    "    VbbVvec = np.matmul(tensornAcrossbH,bsAcrossV) # construct vector of VbbVs\n",
    "    VbbVvec = np.matmul(VbbVvec,tensornAcrossb)\n",
    "    return VbbVvec\n",
    "\n",
    "# DESCRIPTION: Given some single qubit unitary V, tensor together n of them \n",
    "def tensorntimes(V,n):\n",
    "    Vtensorn = V\n",
    "    for x in range(n-1):  # Kronecker n times\n",
    "        Vtensorn = np.kron(Vtensorn, V)\n",
    "    return Vtensorn\n",
    "\n",
    "# DESCRIPTION: Returns non-sparse density matrix for the \\ket{b}\\bra{b} state for some b\n",
    "# b: index of the computational basis state (runs 0 to 2**n-1)\n",
    "def makebbvector(mmt, n):\n",
    "    init_state = np.zeros((2**n,2**n))\n",
    "    init_state[mmt][mmt] = 1\n",
    "    return init_state\n"
   ]
  },
  {
   "cell_type": "markdown",
   "id": "5d1007ed",
   "metadata": {},
   "source": [
    "### B. Helper Functions for Adapting the Variance"
   ]
  },
  {
   "cell_type": "code",
   "execution_count": 4,
   "id": "d5bbabad",
   "metadata": {},
   "outputs": [],
   "source": [
    "# DESCRIPTION: This function returns the average K(V,b) value of the vector of k values fed in\n",
    "def meanKVb(kvector):\n",
    "    return np.average(kvector)\n",
    "\n",
    "# DESCRIPTION: This function returns the variance of the K(V,b) values fed in -- this function assumed uniform \n",
    "# sampling over the set of unitaries {V} and assumes the state of interest is the maximally mized state.\n",
    "def varKVb(kvector):\n",
    "    return np.var(kvector)\n",
    "\n",
    "\n",
    "# DESCRIPTION: This function returns the optimal PDF given the kvector representation of an operator. The pdf is \n",
    "# for V entries, where the probability of seeing V is \\gamma(V). However, the results are scaled for all (V,b) entries\n",
    "# and thus the V probabilities are repeated 2**n times. Note: the index convention for (V,b) is the same as the \n",
    "# convention in the rest of this code.\n",
    "def makeKbasedPDF(kvector, n):\n",
    "    #Part 1 -- make pdf\n",
    "    bestksqd = np.multiply(kvector,kvector)\n",
    "    summedksqd = np.reshape(bestksqd, (len(su2nitaries), 2**n))\n",
    "    probperV = np.sqrt(np.sum(summedksqd,1)) #not yet normalized\n",
    "    \n",
    "    #Part 2 -- normalize pdf\n",
    "    normalization = np.sum(probperV)\n",
    "    pdffromk = np.real(np.multiply(1/normalization,probperV))\n",
    "    \n",
    "    #Part 3 -- repeat the entries for the various bs associated with each V\n",
    "    pdffromk = np.repeat(pdffromk,2**n,0)\n",
    "    \n",
    "    return pdffromk\n",
    "\n",
    "# DESCRIPTION: This function returns the new vector \"k'\" that we want to use when relying on a nonuniform pdf across\n",
    "# the unitary set. \n",
    "# IMPORTANT NOTES: \n",
    "#    (1) When you update the pdf, you also need to update the kvector because suddenly your expectation over \n",
    "#    unitaries V and comp basis states b is going to be different. Therefore, to maintain the same operator O \n",
    "#    yielded by the k vector, the k vector must be updated via the new pdf. \n",
    "#    (2) The pdf passed in is assumed to have only the probability of selecitng V from a set {V}. In other words,\n",
    "#    there is no 1/2**n factor from the probability of choosing a computational basis state, and the\n",
    "#    probability of seeing some V is assumed to be repeated 2**n times (in order to account for the 2**n k(V,b)s that \n",
    "#    will have to be updated in response to changing the pdf. You should pass in the result of function makeKbasedPDF.\n",
    "def makeKprimefromPDF(pdf, kvector):\n",
    "    oneoverpdf = [1/x for x in pdf]\n",
    "    result = np.multiply(oneoverpdf, kvector)\n",
    "    \n",
    "    for k in range(len(result)):\n",
    "        if math.isnan(result[k]):\n",
    "            result[k] = 0\n",
    "            \n",
    "    return np.multiply(1/len(su2nitaries),result)\n",
    "\n",
    "# DESCRIPTION: This function reconstructs the operator from the vector of k(V,b) entries. The indices follow the\n",
    "# convention described at the start of this code block. \n",
    "# NOTE: This faster version relys on the creation ahead-of-time of large numpy arrays. These are listed in the global\n",
    "# variable index.\n",
    "def makeOfromkVb(kvector, n):\n",
    "    OTilde = 0\n",
    "    kvecRESHAPED = np.repeat(kvector,2**(2*n),0).reshape(len(kvector),2**n,2**n)\n",
    "    result = np.multiply(kvecRESHAPED, VbbVvector)\n",
    "    \n",
    "    return np.sum(result,0)/len(su2nitaries)\n",
    "\n",
    "# DESCRIPTION: This function reconstructs the operator from the vector of k(V,b) entries, assuming nonuniform pdf\n",
    "# is passed in (pdf assumed to be over the set of unitiaries and comp basis states). \n",
    "def makeOfromKVb_weighted(kvector, pdf, n):\n",
    "    OTilde = 0\n",
    "    consts = np.multiply(kvector,pdf)\n",
    "    \n",
    "    kvecRESHAPED = np.repeat(consts,2**(2*n),0).reshape(len(consts),2**n,2**n)\n",
    "    result = np.multiply(kvecRESHAPED, VbbVvector)\n",
    "    \n",
    "    return np.sum(result,0)*2**n\n",
    "\n",
    "# DESCRIPTION: This function returns the optimal PDF given the kvector representation of an operator. The pdf is \n",
    "# for (V,b) entries, where the probability of seeing k(V,b) is \\gamma(V) * 1/2**n. Here, \\gamma is prob of the unitary\n",
    "# V and 1/2**n is the probability of seeing b for the maximally mixed state. The index convention for (V,b) is the\n",
    "# same as the convention in the rest of this code.\n",
    "def makeVb_fullPDF(pdf, n):\n",
    "    return (1/2**n) * pdf\n",
    "\n",
    "# DESCRIPTION: This function returns the average K(V,b) value of the vector of k values fed in, where each k(V,b) has\n",
    "# a probably pdf(V,b) of being chosen. The pdf array contains these probabilities and is ASSUMED to sum to 1.\n",
    "def meanKVb_weighted(kvector, pdf):\n",
    "    avg = np.sum(np.multiply(kvector, pdf))\n",
    "    return avg / np.sum(pdf)\n",
    "\n",
    "# DESCRIPTION: This function returns the variance of the K(V,b) values fed in, where each k(V,b) has\n",
    "# a probably pdf(V,b) of being chosen. The pdf array contains these probabilities and is ASSUMED to sum to 1.\n",
    "def varKVb_weighted(kvector, pdf):\n",
    "    vecmean = [meanKVb_weighted(kvector, pdf)]*len(kvector)\n",
    "    difffrommean = np.abs(np.subtract(kvector, vecmean))\n",
    "    difffrommean = np.multiply(difffrommean,difffrommean)\n",
    "    return np.real(np.sum(np.multiply(difffrommean, pdf)))\n",
    "\n",
    "# DESCRIPTION: This function returns the variance of the K(V,b) values fed in. The variance depends on the state of \n",
    "# interest. However, in practice, we don't know what the state is, which is why we're doing tomography to begin with.\n",
    "# This function returns the maximum variance over all states. \n",
    "# --> still assumes uniform distribution\n",
    "def varKVb_upperbound(kvector):\n",
    "    #calculate the size of your system based on the passed in k vector\n",
    "    sys = int(np.log2(len(kvector)/len(su2nitaries)))\n",
    "    \n",
    "    makeuniformPDF = np.ones(len(su2nitaries)*2**sys)\n",
    "    makeuniformPDF = np.multiply(1/(len(su2nitaries)*2**sys), makeuniformPDF)\n",
    "    return varKVb_weighted_upperbound(kvector, makeuniformPDF)\n",
    "\n",
    "# DESCRIPTION: Similar to the function above, this function returns the maximum variance over all states. However, \n",
    "# this function assumes each k(V,b) has a probably pdf(V,b) of being chosen. The pdf array contains these\n",
    "# probabilities and is ASSUMED to sum to 1.\n",
    "def varKVb_weighted_upperbound(kvector, pdf):\n",
    "    #calculate the size of your system based on the passed in k vector\n",
    "    sys = int(np.log2(len(kvector)/len(su2nitaries)))\n",
    "    \n",
    "    #make kvSquared\n",
    "    kvSquared = np.multiply(np.abs(kvector),np.abs(kvector))\n",
    "    \n",
    "    #loop over the unitaries\n",
    "    runningVar = 0\n",
    "    for uni in range(len(su2nitaries)):\n",
    "        uniindex = uni * 2**sys\n",
    "        maxbVal = np.max(kvSquared[uniindex: uniindex+2**sys])\n",
    "        runningVar += pdf[uniindex]*maxbVal*2**sys \n",
    "        #included 2**systemsize here^ because want pdf over ONLY the unitaries\n",
    "        \n",
    "    return runningVar\n",
    "\n",
    "# DESCRIPTION: Same as function above, but uses numpy. \n",
    "def varKVb_weighted_upperbound2(kvector, pdf):\n",
    "    #calculate the size of your system based on the passed in k vector\n",
    "    sys = int(np.log2(len(kvector)/len(su2nitaries)))\n",
    "    \n",
    "    #make kvSquared, get max\n",
    "    kvSquared = np.multiply(np.abs(kvector),np.abs(kvector))\n",
    "    kvSquared = np.reshape(kvSquared, (len(su2nitaries), 2**sys))\n",
    "    maxForEachV = np.amax(kvSquared, axis=1)\n",
    "    maxForEachV = np.repeat(maxForEachV,2**sys)\n",
    "    \n",
    "    return np.sum(np.multiply(pdf, maxForEachV))\n",
    "\n",
    "# DESCRIPTION: This function returns the optimal PDF given the kvector representation of an operator. The pdf is \n",
    "# for V entries, where the probability of seeing V is \\gamma(V). However, the results are scaled for all (V,b) entries\n",
    "# and thus the V probabilities are repeated 2**n times. Note: the index convention for (V,b) is the same as the \n",
    "# convention in the rest of this code.\n",
    "def makeKbasedPDF_maxoverstates(kvector, n):\n",
    "    #Part 1 -- make pdf\n",
    "    bestksqd = np.multiply(np.abs(kvector),np.abs(kvector))\n",
    "    summedksqd = np.reshape(bestksqd, (len(su2nitaries), 2**n))\n",
    "    probperV = np.sqrt(np.amax(summedksqd, axis=1)) #not yet normalized\n",
    "    \n",
    "    #Part 2 -- normalize pdf\n",
    "    normalization = np.sum(probperV)\n",
    "    pdffromk = np.real(np.multiply(1/normalization,probperV))\n",
    "    \n",
    "    #Part 3 -- repeat the entries for the various bs associated with each V\n",
    "    pdffromk = np.repeat(pdffromk,2**n,0)\n",
    "    \n",
    "    return pdffromk"
   ]
  },
  {
   "cell_type": "markdown",
   "id": "dcdb2947",
   "metadata": {},
   "source": [
    "### C. Helper Functions for Solving for k and Optimizing on Bias Variance Tradeoff"
   ]
  },
  {
   "cell_type": "code",
   "execution_count": 5,
   "id": "cca770b6",
   "metadata": {},
   "outputs": [],
   "source": [
    "# DESCRIPTION: This function creates the operator for a single plaquette. Following from equation 4.1, we assume\n",
    "# that \\alpha = g = 1. Here, we assume periodic boundary conditions (PBC), and thus the cross plaquette terms just\n",
    "# become an energy shift. Therefore, we neglect those terms, and only consider plaquette terms. \n",
    "def makePlaquetteOperator():\n",
    "    #Full Plaquette Terms\n",
    "    x3 = np.kron(np.kron(X,X),X)\n",
    "    x1y2 = np.kron(np.kron(Y,X),Y) + np.kron(np.kron(X,Y),Y) + np.kron(np.kron(Y,Y),X)\n",
    "    return -(1/24)*(x3 - x1y2)\n",
    "\n",
    "# DESCRIPTION: This function returns the operator for the link term chunk of the hamiltonian (link term across 2 sites)\n",
    "def makeLinkOperator(): \n",
    "    zzterms = np.kron(Z,Z)    \n",
    "    xxterms = np.kron(X,X)\n",
    "    yyterms = np.kron(Y,Y)\n",
    "    return (1/3)* (zzterms + 0.25 * (xxterms + yyterms))\n",
    "\n",
    "# ENDED UP NOT USING THIS FUNCTION BECAUSE IT GIVES SOMETHING THAT ISN'T AS CLOSE TO THE M CHANNEL AS THE FCN BELOW\n",
    "# DESCRIPTION: This function gives a kvector for the operator O passed in. This is a numeric version of analytic \n",
    "# shadow expression for the k vector. Note that the M channel in this case is a simpler version of the shadows m \n",
    "# channel. \n",
    "def numericShadowGeneratedKVEC(O):\n",
    "    flattenedVbbV = np.transpose([np.ravel(vbbv) for vbbv in VbbVvector])\n",
    "    flatOp =  np.transpose(np.ravel(O))\n",
    "    vbbvInv = np.linalg.pinv(flattenedVbbV)\n",
    "    return len(su2nitaries)* np.transpose(np.matmul(vbbvInv, flatOp))\n",
    "\n",
    "# DESCRIPTION: This function gives a kvector for the operator O passed in. This regularized least squares code\n",
    "# provides a numeric version of the shadow expression for the k vector. Note that the M channel in this case is \n",
    "# a simpler version of the shadows M channel.\n",
    "# --- NOTE: if you set lamb = 0, then you are asking for the UNBIASED version of the kvector.\n",
    "def get_model(flattenedVbbV, flatOp, lamb=0):\n",
    "    n_col = flattenedVbbV.shape[1] #number of columns\n",
    "    return np.linalg.lstsq(flattenedVbbV.T.conj().dot(flattenedVbbV) + lamb * np.identity(n_col), flattenedVbbV.T.conj().dot(flatOp), rcond = 1e-20)[0]\n",
    "\n",
    "# DESCRIPTION: This function gives the unbiased version of the shadow/Mchannel-generated kvector for the \n",
    "# operator O passed in. It calls get_model, which is a regularized least squares, and the parameter lamb is basically\n",
    "# a measure of how much bias you are willing to tolerate. (larger lamb -> more bias)\n",
    "# --- NOTE: if you set lamb = 0, then you are asking for the UNBIASED version of the kvector.\n",
    "def getBiasedShadowkop(O, lamb):\n",
    "    flattenedVbbV = np.transpose([np.ravel(vbbv) for vbbv in VbbVvector])\n",
    "    flatOp = np.transpose(np.ravel(O))\n",
    "    return len(su2nitaries)*np.transpose(get_model(flattenedVbbV, flatOp, lamb))\n",
    "\n",
    "# DESCRIPTION: This function gives the unbiased version of the shadow/Mchannel-generated kvector for the \n",
    "# operator O passed in. It calls get_model, which is a regularized least squares technique. \n",
    "def getUNBiasedShadowkop(O):\n",
    "    lamb = 0\n",
    "    flattenedVbbV = np.transpose([np.ravel(vbbv) for vbbv in VbbVvector])\n",
    "    flatOp = np.transpose(np.ravel(O))\n",
    "    return len(su2nitaries)*np.transpose(get_model(flattenedVbbV, flatOp, lamb))\n"
   ]
  },
  {
   "cell_type": "markdown",
   "id": "6db68edb",
   "metadata": {},
   "source": [
    "### D. Helper Functions for Calculating Number of Measurements Using Bernstein's Inequality"
   ]
  },
  {
   "cell_type": "code",
   "execution_count": 6,
   "id": "0394b8ba",
   "metadata": {},
   "outputs": [],
   "source": [
    "# DESCRIPTION: Using bernsteins inequality (see appendix for derivation), this function gives the number of measure-\n",
    "# ments needed to estimate the operator op using the kvector. Also when you call this function, it will \n",
    "# use some global arrays created so that numpy functions can be called to quicken runtime. Therefore, you need to \n",
    "# make sure that n = systemsize = log2(len(kvector)/len(su2nitaries)).\n",
    "# ---> ARGUMENT LIST:\n",
    "#       - kvector: kvector that represents some biased version of the operator ('op') of interest\n",
    "#       - pdf: probability distribution over the unitaries\n",
    "#       - op: matrix representation of operator of interest\n",
    "#       - n: systemsize of operator\n",
    "#       - numterms: number of terms in the lattice gauge theory hamiltonian that you want to estimate \n",
    "def numberOfMeasurements_weighted(kvector, pdf, op, n, numterms):\n",
    "    if(systemsize != n):\n",
    "        print('WARNING: You need to update global parameter \\'systemsize\\' for this operator')\n",
    "    bias = biasOfKVecWeighted(kvector, pdf, op, n)\n",
    "    if(bias > EPSILON):\n",
    "        print('WARNING: Your bias exceeds epsilon! You will never achieve your desired precision!!!') \n",
    "    maxk = np.max(np.abs(kvector))\n",
    "    varK = varKVb_weighted_upperbound(kvector,pdf)\n",
    "    \n",
    "    return 2*np.log(numterms/DELTA)*(varK + maxk*(EPSILON-bias)/3)/(EPSILON-bias)**2\n",
    "\n",
    "\n",
    "# DESCRIPTION: Same as the above but with uniform distribution assumed over the set of unitaries. \n",
    "# ---> ARGUMENT LIST:\n",
    "#       - kvector: kvector that represents some biased version of the operator ('op') of interest\n",
    "#       - op: matrix representation of operator of interest\n",
    "#       - n: systemsize of operator\n",
    "#       - numterms: number of terms in the lattice gauge theory hamiltonian that you want to estimate \n",
    "def numberOfMeasurements(kvector, op, n, numterms):\n",
    "    if(systemsize != n):\n",
    "        print('WARNING: You need to update global parameter \\'systemsize\\' for this operator')\n",
    "    bias = precisionHSbiasonly(kvector, op, n)\n",
    "    if(bias > EPSILON):\n",
    "        print('WARNING: Your bias exceeds epsilon! You will never achieve your desired precision!!!') \n",
    "    maxk = np.max(np.abs(kvector))\n",
    "    varK = varKVb_upperbound(kvector)\n",
    "    \n",
    "    return 2*np.log(numterms/DELTA)*(varK + maxk*(EPSILON-bias)/3)/(EPSILON-bias)**2\n",
    "\n",
    "# DESCRIPTION: The precision has two terms, a var term and a bias term, and serves as our cost function (the \n",
    "# function we are trying to minimize with grad descent). This bias term is the hilbert schmidt norm, which upper\n",
    "# bounds the spectral norm. We found it is faster to take the gradient of this norm.\n",
    "# ---> COMMENT: The most expensive piece of this function is constructing OTilde from the k vector\n",
    "def precisionHS_general(kvector, pdf, O, n, numterms):\n",
    "    #A. Make Bias Piece\n",
    "    OTilde = makeOfromKVb_weighted(kvector, pdf, n)\n",
    "    biaspiece = linalg.norm(O - OTilde)\n",
    "    #print('bias: ', biaspiece)\n",
    "    #B. Make Variance Piece\n",
    "    const = np.sqrt(2*np.log(numterms/DELTA)/NUMMMTS)\n",
    "    varpiece = const*np.sqrt(varKVb_weighted_upperbound(kvector, pdf))\n",
    "    #print('var: ', varpiece)\n",
    "    return biaspiece + varpiece\n",
    "\n",
    "# DESCRIPTION: The precision has two terms, a var term and a bias term, and this only returns the bias term. This\n",
    "# bias term is the hilbert schmidt norm, which upper bounds the spectral norm. We found it is faster to take the \n",
    "# gradient of this norm.\n",
    "# ---> Assuming: \\delta = 0.01, M = 10,000 (these values go into computing the constant below)\n",
    "# ---> COMMENT: The most expensive piece of this function is constructing OTilde from the k vector\n",
    "def precisionHSbiasonly(kvector, O, n):\n",
    "    #A. Make Bias Piece\n",
    "    OTilde = makeOfromkVb(kvector, n)\n",
    "    biaspiece = linalg.norm(O - OTilde) #returns largest singular value >> i.e. 2 norm\n",
    "    return biaspiece\n",
    "\n",
    "# DESCRIPTION: The precision has two terms, a var term and a bias term, and this only returns the bias term. This\n",
    "# bias term is the hilbert schmidt norm, which upper bounds the spectral norm. \n",
    "# ---> COMMENT: The most expensive piece of this function is constructing OTilde from the k vector\n",
    "def biasOfKVecWeighted(kvector, pdf, O, n):\n",
    "    #A. Make Bias Piece\n",
    "    OTilde = makeOfromKVb_weighted(kvector,pdf, n)\n",
    "    biaspiece = linalg.norm(O - OTilde) #returns largest singular value >> i.e. 2 norm\n",
    "    return biaspiece"
   ]
  },
  {
   "cell_type": "markdown",
   "id": "ab55ccce",
   "metadata": {},
   "source": [
    "# Generating Figure 3c"
   ]
  },
  {
   "cell_type": "markdown",
   "id": "ff2e14d7",
   "metadata": {},
   "source": [
    "IMPORTANT: each run of this file will give different results because you resample a new, discrete set from SU(2)."
   ]
  },
  {
   "cell_type": "markdown",
   "id": "c81a5067",
   "metadata": {},
   "source": [
    "We split up the hamiltoninan of our p plaquette U(1) lattice gauge theory into max 3-site terms. The terms include two types of terms. One type is a \"plaquette term\" which sits on each plaquette (3 sites). The other type is a \"link term\". The two qubits right on top of eachother (each from different plaquettes) are the qubits in the link term. The full hamiltonian has $p$ plaquette terms and $3*p$ link terms, and one can obtain the full hamiltonian (with periodic boundary conditions) by simply summing up these terms.\n",
    "\n",
    "Cases 1-4 below represent various techniques for estimating the terms of the hamiltonian. We compare them to demonstrate the advantage of our novel techniques. Once the k vectors have been created, we can calculate the number of measurements needed to obtain the expectation values of our Hamiltonian's terms (with precision below some desired threshhold). Ultimately the number of measurements is set by the term that is most expensive (see Appendix F), which we find below to be the link term. \n",
    "\n",
    "Case 1. Original, zero-bias k vector\n",
    "\n",
    "Case 2. BV-optimized k vector\n",
    "\n",
    "Case 3. Gamma-adapted k vector (variance is max var over states)\n",
    "\n",
    "Case 4. BV Optimized --> Gamma-adapted k vector (variance is max var over states)"
   ]
  },
  {
   "cell_type": "code",
   "execution_count": 7,
   "id": "3bd79b78",
   "metadata": {},
   "outputs": [],
   "source": [
    "#GLOBAL VARIABLES FOR FIGURE 3(c)\n",
    "DELTA=0.1\n",
    "EPSILON=0.1\n",
    "\n",
    "su2nitaries = discretize_su2(15)\n",
    "seedsu2nitaries() # Note: This guarantees that we can define unbiased versions of our operators"
   ]
  },
  {
   "cell_type": "markdown",
   "id": "e70fa14a",
   "metadata": {},
   "source": [
    "### PLAQUETTE TERM CALCULATIONS"
   ]
  },
  {
   "cell_type": "code",
   "execution_count": 8,
   "id": "b4be91ad",
   "metadata": {},
   "outputs": [],
   "source": [
    "#Making Global Variables to Create Faster Functions \n",
    "systemsize = 3\n",
    "bblist = makeBBlist(systemsize)\n",
    "bsAcrossV = bblist*len(su2nitaries)\n",
    "(su2tensorn,su2tensornH) = tensorVersionSU2nitaries(systemsize)\n",
    "tensornAcrossb = np.repeat(su2tensorn,2**systemsize,0)\n",
    "tensornAcrossbH = np.repeat(su2tensornH,2**systemsize,0)\n",
    "VbbVvector = constructVBBVvector() # construct vector of VbbVs"
   ]
  },
  {
   "cell_type": "markdown",
   "id": "00749ebe",
   "metadata": {},
   "source": [
    "##### Case 1. Original, zero-bias k vector"
   ]
  },
  {
   "cell_type": "markdown",
   "id": "e0e9d801",
   "metadata": {},
   "source": [
    "To start, we consider a k vector with no bias. In other words, when one reconstructs an operator $O$ using the k vector and the given ensemble, the operator will be exactly the max 3-site operators we have defined (above) when \"chunking\" up our hamiltonian. "
   ]
  },
  {
   "cell_type": "code",
   "execution_count": 9,
   "id": "ba4b1a86",
   "metadata": {},
   "outputs": [],
   "source": [
    "# Make the k vector for the plaquette terms\n",
    "kPLAQop = makePlaquetteOperator()\n",
    "kPLAQ = getUNBiasedShadowkop(kPLAQop)"
   ]
  },
  {
   "cell_type": "markdown",
   "id": "24b9eda0",
   "metadata": {},
   "source": [
    "##### Case 2. BV-optimized k vector"
   ]
  },
  {
   "cell_type": "markdown",
   "id": "39d3803f",
   "metadata": {},
   "source": [
    "Next, we optimize this k vector on the bias variance tradeoff. This new, optimized k vector will help estimate tr$(\\rho O)$ to finer precision than the original version (given fixed number of measurements). Doing this optimization requires tuning the parameters of the optimization to obtain the best minimum."
   ]
  },
  {
   "cell_type": "code",
   "execution_count": 10,
   "id": "f0f9c74b",
   "metadata": {},
   "outputs": [],
   "source": [
    "testlam = [0,0.0001, 0.001,0.01,0.1,0.2,0.4]\n",
    "lowmmts = 100000\n",
    "kPLAQ_optimized = 0\n",
    "\n",
    "for lam in testlam:\n",
    "    kveclam = getBiasedShadowkop(kPLAQop, lam)\n",
    "    if numberOfMeasurements(kveclam, kPLAQop, 3, 4*2) < lowmmts:\n",
    "        lowmmts = numberOfMeasurements(kveclam, kPLAQop, 3, 4*2)\n",
    "        kPLAQ_optimized = kveclam"
   ]
  },
  {
   "cell_type": "markdown",
   "id": "df70f7d0",
   "metadata": {},
   "source": [
    "##### Case 3. Gamma-adapted k vector (variance is max var over states)"
   ]
  },
  {
   "cell_type": "markdown",
   "id": "55e03b89",
   "metadata": {},
   "source": [
    "Using the original k vector, we can adapt the ensemble such that fewer measurements are required to estimate tr$(\\rho O)$. Specifically, when we adapt the ensemble, we adapt the probability density function over the set of unitaries defined in the ensemble. Here we define the probability density function as $\\gamma$."
   ]
  },
  {
   "cell_type": "code",
   "execution_count": 11,
   "id": "74c88f14",
   "metadata": {},
   "outputs": [
    {
     "name": "stderr",
     "output_type": "stream",
     "text": [
      "<ipython-input-4-7cf8f34235c9>:45: ComplexWarning: Casting complex values to real discards the imaginary part\n",
      "  if math.isnan(result[k]):\n"
     ]
    }
   ],
   "source": [
    "kvecpdf = makeKbasedPDF_maxoverstates(kPLAQ, 3) #make k-vec pdf as function of V\n",
    "kfromupdatedpdf_PLAQ = makeKprimefromPDF(kvecpdf, kPLAQ) #use to redefine k\n",
    "pdffullVb_PLAQ = makeVb_fullPDF(kvecpdf, 3) #use to define a full pdf for V and b"
   ]
  },
  {
   "cell_type": "markdown",
   "id": "ae8dd64b",
   "metadata": {},
   "source": [
    "##### Case 4. BV Optimized --> Gamma-adapted k vector (variance is max var over states)"
   ]
  },
  {
   "cell_type": "code",
   "execution_count": 12,
   "id": "722d7156",
   "metadata": {},
   "outputs": [
    {
     "name": "stderr",
     "output_type": "stream",
     "text": [
      "<ipython-input-4-7cf8f34235c9>:45: ComplexWarning: Casting complex values to real discards the imaginary part\n",
      "  if math.isnan(result[k]):\n"
     ]
    }
   ],
   "source": [
    "kvecpdf = makeKbasedPDF_maxoverstates(kPLAQ_optimized, 3) #make k-vec pdf as function of V\n",
    "kfromupdatedpdf_PLAQ_postBV = makeKprimefromPDF(kvecpdf, kPLAQ_optimized) #use to redefine k\n",
    "pdffullVb_PLAQ_postBV = makeVb_fullPDF(kvecpdf, 3) #use to define a full pdf for V and b"
   ]
  },
  {
   "cell_type": "markdown",
   "id": "108af799",
   "metadata": {},
   "source": [
    "#### Results"
   ]
  },
  {
   "cell_type": "code",
   "execution_count": 13,
   "id": "a86f8e79",
   "metadata": {},
   "outputs": [
    {
     "name": "stdout",
     "output_type": "stream",
     "text": [
      "PLAQ TERM: Num Mmts (upper bound)\n",
      "\n",
      "\n",
      "1. ORIGINAL\n",
      "plaq mmts:  965.1846992928673\n",
      "\n",
      "2. BV OPTIMIZED\n",
      "plaq mmts:  131.11072853691883\n",
      "\n",
      "3. GAMMA-ADAPTED VARIANCE\n",
      "plaq mmts:  759.3243816442505\n",
      "\n",
      "4. BV OPTIMIZED --> GAMMA-ADAPTED VARIANCE\n",
      "plaq mmts:  54.925573119318\n"
     ]
    }
   ],
   "source": [
    "print('PLAQ TERM: Num Mmts (upper bound)\\n')\n",
    "p=1\n",
    "\n",
    "print('\\n1. ORIGINAL')\n",
    "print('plaq mmts: ', numberOfMeasurements(kPLAQ, kPLAQop, 3, 4*p))\n",
    "\n",
    "print('\\n2. BV OPTIMIZED')\n",
    "print('plaq mmts: ', numberOfMeasurements(kPLAQ_optimized, kPLAQop, 3, 4*p))\n",
    "\n",
    "print('\\n3. GAMMA-ADAPTED VARIANCE')\n",
    "print('plaq mmts: ', numberOfMeasurements_weighted(kfromupdatedpdf_PLAQ, pdffullVb_PLAQ, kPLAQop, 3, 4*p))\n",
    "\n",
    "print('\\n4. BV OPTIMIZED --> GAMMA-ADAPTED VARIANCE')\n",
    "print('plaq mmts: ', numberOfMeasurements_weighted(kfromupdatedpdf_PLAQ_postBV, pdffullVb_PLAQ_postBV, kPLAQop, 3, 4*p))"
   ]
  },
  {
   "cell_type": "markdown",
   "id": "30e06ad2",
   "metadata": {},
   "source": [
    "### LINK TERM CALCULATIONS"
   ]
  },
  {
   "cell_type": "code",
   "execution_count": 14,
   "id": "72d5c94d",
   "metadata": {},
   "outputs": [],
   "source": [
    "#Making Global Variables to Create Faster Functions \n",
    "systemsize = 2\n",
    "bblist = makeBBlist(systemsize)\n",
    "bsAcrossV = bblist*len(su2nitaries)\n",
    "(su2tensorn,su2tensornH) = tensorVersionSU2nitaries(systemsize)\n",
    "tensornAcrossb = np.repeat(su2tensorn,2**systemsize,0)\n",
    "tensornAcrossbH = np.repeat(su2tensornH,2**systemsize,0)\n",
    "VbbVvector = constructVBBVvector() # construct vector of VbbVs"
   ]
  },
  {
   "cell_type": "markdown",
   "id": "aee3ac63",
   "metadata": {},
   "source": [
    "##### Line 1. Original, zero-bias k vector"
   ]
  },
  {
   "cell_type": "code",
   "execution_count": 15,
   "id": "e9b05fec",
   "metadata": {},
   "outputs": [],
   "source": [
    "kLINKop = makeLinkOperator()\n",
    "kLINK = getUNBiasedShadowkop(kLINKop)"
   ]
  },
  {
   "cell_type": "markdown",
   "id": "3ff90f5d",
   "metadata": {},
   "source": [
    "##### Line 2. BV-optimized k vector"
   ]
  },
  {
   "cell_type": "code",
   "execution_count": 16,
   "id": "f34a0a3c",
   "metadata": {},
   "outputs": [],
   "source": [
    "testlam = [0,0.00001,0.0001, 0.001,0.01,0.1]\n",
    "lowmmts = 100000\n",
    "kLINK_optimized = 0\n",
    "\n",
    "for lam in testlam:\n",
    "    kveclam = getBiasedShadowkop(kLINKop, lam)\n",
    "    if numberOfMeasurements(kveclam, kLINKop, 2, 4*1) < lowmmts:\n",
    "        lowmmts = numberOfMeasurements(kveclam, kLINKop, 2, 4*1)\n",
    "        kLINK_optimized = kveclam"
   ]
  },
  {
   "cell_type": "markdown",
   "id": "a76570f0",
   "metadata": {},
   "source": [
    "##### Line 3. Gamma-adapted k vector (variance is max var over states)"
   ]
  },
  {
   "cell_type": "markdown",
   "id": "060c95c9",
   "metadata": {},
   "source": [
    "Using the original k vector, we can adapt the ensemble such that fewer measurements are required to estimate tr$(\\rho O)$. Specifically, when we adapt the ensemble, we adapt the probability density function over the set of unitaries defined in the ensemble. "
   ]
  },
  {
   "cell_type": "code",
   "execution_count": 17,
   "id": "8eb2d2c3",
   "metadata": {},
   "outputs": [
    {
     "name": "stderr",
     "output_type": "stream",
     "text": [
      "<ipython-input-4-7cf8f34235c9>:45: ComplexWarning: Casting complex values to real discards the imaginary part\n",
      "  if math.isnan(result[k]):\n"
     ]
    }
   ],
   "source": [
    "kvecpdf = makeKbasedPDF_maxoverstates(kLINK, 2) #make k-vec pdf as function of V\n",
    "kfromupdatedpdf_LINK = makeKprimefromPDF(kvecpdf, kLINK) #use to redefine k\n",
    "pdffullVb_LINK = makeVb_fullPDF(kvecpdf, 2) #use to define a full pdf for V and b"
   ]
  },
  {
   "cell_type": "markdown",
   "id": "9323e54a",
   "metadata": {},
   "source": [
    "##### Line 4. BV Optimized --> Gamma-adapted k vector (variance assumes max mixed state)"
   ]
  },
  {
   "cell_type": "code",
   "execution_count": 18,
   "id": "e225db2e",
   "metadata": {},
   "outputs": [
    {
     "name": "stderr",
     "output_type": "stream",
     "text": [
      "<ipython-input-4-7cf8f34235c9>:45: ComplexWarning: Casting complex values to real discards the imaginary part\n",
      "  if math.isnan(result[k]):\n"
     ]
    }
   ],
   "source": [
    "kvecpdf = makeKbasedPDF_maxoverstates(kLINK_optimized, 2) #make k-vec pdf as function of V\n",
    "kfromupdatedpdf_LINK_postBV = makeKprimefromPDF(kvecpdf, kLINK_optimized) #use to redefine k\n",
    "pdffullVb_LINK_postBV = makeVb_fullPDF(kvecpdf, 2) #use to define a full pdf for V and b"
   ]
  },
  {
   "cell_type": "markdown",
   "id": "49edfe60",
   "metadata": {},
   "source": [
    "#### Results "
   ]
  },
  {
   "cell_type": "code",
   "execution_count": 19,
   "id": "56d9029f",
   "metadata": {},
   "outputs": [],
   "source": [
    "systemsize = 2\n",
    "p=1"
   ]
  },
  {
   "cell_type": "code",
   "execution_count": 20,
   "id": "779d54c8",
   "metadata": {},
   "outputs": [
    {
     "name": "stdout",
     "output_type": "stream",
     "text": [
      "LINK TERM: Num Mmts (upper bound)\n",
      "\n",
      "\n",
      "1. ORIGINAL\n",
      "link mmts:  4395.4485615099975\n",
      "\n",
      "2. BV OPTIMIZED\n",
      "link mmts:  1949.216104361552\n",
      "\n",
      "3. GAMMA-ADAPTED VARIANCE\n",
      "link mmts:  3640.4662166469184\n",
      "\n",
      "4. BV OPTIMIZED --> GAMMA-ADAPTED VARIANCE\n",
      "link mmts:  364.91109529534384\n"
     ]
    }
   ],
   "source": [
    "print('LINK TERM: Num Mmts (upper bound)\\n')\n",
    "\n",
    "print('\\n1. ORIGINAL')\n",
    "print('link mmts: ', numberOfMeasurements(kLINK, kLINKop, 2, 4*p))\n",
    "\n",
    "print('\\n2. BV OPTIMIZED')\n",
    "print('link mmts: ', numberOfMeasurements(kLINK_optimized, kLINKop, 2, 4*p))\n",
    "\n",
    "print('\\n3. GAMMA-ADAPTED VARIANCE')\n",
    "print('link mmts: ', numberOfMeasurements_weighted(kfromupdatedpdf_LINK, pdffullVb_LINK, kLINKop, 2, 4*p))\n",
    "\n",
    "print('\\n4. BV OPTIMIZED --> GAMMA-ADAPTED VARIANCE')\n",
    "print('link mmts: ', numberOfMeasurements_weighted(kfromupdatedpdf_LINK_postBV, pdffullVb_LINK_postBV, kLINKop, 2, 4*p))"
   ]
  },
  {
   "cell_type": "markdown",
   "id": "32be8250",
   "metadata": {},
   "source": [
    "### PLOT NUMBER OF MEASUREMENTS FOR ESTIMATING ENERGY DENSITY"
   ]
  },
  {
   "cell_type": "markdown",
   "id": "2d2be93e",
   "metadata": {},
   "source": [
    "We notice that the number of measurements required for the link terms is always greater (for each of our 4 cases) than the number required for the plaquette terms. "
   ]
  },
  {
   "cell_type": "code",
   "execution_count": 21,
   "id": "a2081d12",
   "metadata": {},
   "outputs": [
    {
     "data": {
      "image/png": "[encoded data removed]",
      "text/plain": [
       "<Figure size 640x480 with 1 Axes>"
      ]
     },
     "metadata": {},
     "output_type": "display_data"
    }
   ],
   "source": [
    "from matplotlib.ticker import MaxNLocator\n",
    "\n",
    "smax = 10\n",
    "T = 1\n",
    "\n",
    "oriMMTS = []\n",
    "bvoptMMTS = []\n",
    "adaptMMTS = []\n",
    "bvoptadaptMMTS = []\n",
    "\n",
    "for p in range(1,smax+1): #here we keep T constant and scale s_max\n",
    "    oriMMTS.append(numberOfMeasurements(kLINK, kLINKop, 2, 2*p*(T+1)))\n",
    "    bvoptMMTS.append(numberOfMeasurements(kLINK_optimized, kLINKop, 2, 2*p*(T+1)))\n",
    "    adaptMMTS.append(numberOfMeasurements_weighted(kfromupdatedpdf_LINK, pdffullVb_LINK, kLINKop, 2, 2*p*(T+1)))\n",
    "    bvoptadaptMMTS.append(numberOfMeasurements_weighted(kfromupdatedpdf_LINK_postBV, pdffullVb_LINK_postBV, kLINKop, 2, 2*p*(T+1)))\n",
    "\n",
    "syssizeset = range((T+2),(smax+1)*(T+2),3)\n",
    "plt.scatter(syssizeset,oriMMTS,label='Bare Shadows',color='slategrey',marker= 'o')\n",
    "plt.plot(syssizeset,oriMMTS,'slategrey')\n",
    "plt.scatter(syssizeset,bvoptMMTS,label='BV Optimized',color='#6D95F8',marker= 'x')\n",
    "plt.plot(syssizeset,bvoptMMTS,'#6D95F8')\n",
    "plt.scatter(syssizeset,adaptMMTS,label='$\\gamma$-Adapted',color='#EE857D',marker= 'd')\n",
    "plt.plot(syssizeset,adaptMMTS,'#EE857D')\n",
    "plt.scatter(syssizeset,bvoptadaptMMTS,label='BV & $\\gamma$-Adapted',color='#A36DD1',marker= '*')\n",
    "plt.plot(syssizeset,bvoptadaptMMTS,'#A36DD1')\n",
    "\n",
    "plt.legend()\n",
    "plt.xlabel('System Size')\n",
    "plt.ylabel('Measurements')\n",
    "plt.title('Number of Measurements to Estimate $<H>$ ($\\epsilon$ = {}, $\\delta$ = {})'.format(EPSILON, DELTA))\n",
    "# plt.yscale(\"log\")\n",
    "syssetticks = range(3,(smax+1)*3,6)\n",
    "plt.xticks(syssetticks,syssetticks)\n",
    "plt.show()"
   ]
  },
  {
   "cell_type": "markdown",
   "id": "772f60b5",
   "metadata": {},
   "source": [
    "# Generating Figure 3b"
   ]
  },
  {
   "cell_type": "code",
   "execution_count": 22,
   "id": "5caa82c7",
   "metadata": {},
   "outputs": [],
   "source": [
    "#GLOBAL VARIABLES FOR FIGURE 3(b)\n",
    "DELTA=0.1\n",
    "EPSILON = 0.1\n",
    "termsInHam = 1\n",
    "su2nitaries = discretize_su2(25)\n",
    "\n",
    "#Making Global Variables to Create Faster Functions \n",
    "systemsize = 2\n",
    "bblist = makeBBlist(systemsize)\n",
    "bsAcrossV = bblist*len(su2nitaries)\n",
    "(su2tensorn,su2tensornH) = tensorVersionSU2nitaries(systemsize)\n",
    "tensornAcrossb = np.repeat(su2tensorn,2**systemsize,0)\n",
    "tensornAcrossbH = np.repeat(su2tensornH,2**systemsize,0)\n",
    "VbbVvector = constructVBBVvector() # construct vector of VbbVs\n",
    "\n",
    "#Make generic, uniform probability distribution over the set of unitaries\n",
    "uniformPDFLINK = np.ones(len(su2nitaries)*2**systemsize)\n",
    "uniformPDFLINK = np.multiply(1/(len(su2nitaries)*2**systemsize), uniformPDFLINK)\n",
    "\n",
    "#Biases to consider\n",
    "testlam = [0.000000000000001,0.000000000000005,0.00000000000001,0.0000000000001,0.000000000001,0.00000000001,0.0000000001,0.000000001, 0.00000001,0.0000001,0.000001, 0.00001,0.0001,0.001,0.01,0.05,0.1,0.2]"
   ]
  },
  {
   "cell_type": "markdown",
   "id": "b0e76e9c",
   "metadata": {},
   "source": [
    "### 10,000 Measurements"
   ]
  },
  {
   "cell_type": "code",
   "execution_count": 23,
   "id": "709b2441",
   "metadata": {},
   "outputs": [],
   "source": [
    "NUMMMTS=10000\n",
    "\n",
    "# Calculate the bias and precision (precision using max variance and bernsteins)\n",
    "biasLINK10000 = []\n",
    "precisionLINK10000 = []\n",
    "for lam in testlam:\n",
    "    kveclam = getBiasedShadowkop(kLINKop, lam)\n",
    "    biasLINK10000.append(linalg.norm(makeOfromkVb(kveclam, 2)-kLINKop))\n",
    "    precisionLINK10000.append(precisionHS_general(kveclam, uniformPDFLINK, kLINKop, 2, termsInHam))"
   ]
  },
  {
   "cell_type": "markdown",
   "id": "d8a34101",
   "metadata": {},
   "source": [
    "### 7,500 Measurements"
   ]
  },
  {
   "cell_type": "code",
   "execution_count": 24,
   "id": "8073d24b",
   "metadata": {},
   "outputs": [],
   "source": [
    "NUMMMTS=7500\n",
    "\n",
    "# Calculate the bias and precision (precision using max variance and bernsteins)\n",
    "biasLINK7500 = []\n",
    "precisionLINK7500 = []\n",
    "for lam in testlam:\n",
    "    kveclam = getBiasedShadowkop(kLINKop, lam)\n",
    "    biasLINK7500.append(linalg.norm(makeOfromkVb(kveclam, 2)-kLINKop))\n",
    "    precisionLINK7500.append(precisionHS_general(kveclam, uniformPDFLINK, kLINKop, 2, termsInHam))"
   ]
  },
  {
   "cell_type": "markdown",
   "id": "a32bb037",
   "metadata": {},
   "source": [
    "### 5,000 Measurements"
   ]
  },
  {
   "cell_type": "code",
   "execution_count": 25,
   "id": "01f0a095",
   "metadata": {},
   "outputs": [],
   "source": [
    "NUMMMTS=5000\n",
    "\n",
    "# Calculate the bias and precision (precision using max variance and bernsteins)\n",
    "biasLINK5000 = []\n",
    "precisionLINK5000 = []\n",
    "for lam in testlam:\n",
    "    kveclam = getBiasedShadowkop(kLINKop, lam)\n",
    "    biasLINK5000.append(linalg.norm(makeOfromkVb(kveclam, 2)-kLINKop))\n",
    "    precisionLINK5000.append(precisionHS_general(kveclam, uniformPDFLINK, kLINKop, 2, termsInHam))"
   ]
  },
  {
   "cell_type": "markdown",
   "id": "3c06cde6",
   "metadata": {},
   "source": [
    "### Plot Results"
   ]
  },
  {
   "cell_type": "code",
   "execution_count": 26,
   "id": "61716448",
   "metadata": {},
   "outputs": [
    {
     "data": {
      "image/png": "[encoded data removed]",
      "text/plain": [
       "<Figure size 640x480 with 1 Axes>"
      ]
     },
     "metadata": {},
     "output_type": "display_data"
    }
   ],
   "source": [
    "plt.plot(biasLINK5000,precisionLINK5000, color = '#BBCFFB')\n",
    "plt.scatter(biasLINK5000,precisionLINK5000, color = '#BBCFFB', label='5,000', marker='o')\n",
    "\n",
    "plt.plot(biasLINK7500,precisionLINK7500, color = '#6D95F8')\n",
    "plt.scatter(biasLINK7500,precisionLINK7500, color = '#6D95F8', label='7,500', marker='x')\n",
    "\n",
    "plt.plot(biasLINK10000,precisionLINK10000, color = 'midnightblue')\n",
    "plt.scatter(biasLINK10000,precisionLINK10000, color = 'midnightblue', label='10,000', marker='d')\n",
    "\n",
    "plt.xlabel('Bias')\n",
    "plt.ylabel('Estimation Error') #estimation/prediction error\n",
    "plt.title('\"Link\" Term Bias Variance Trade-Off')\n",
    "plt.xscale(\"log\")\n",
    "ax = plt.gca()\n",
    "ax.set_ylim(bottom = 0)\n",
    "plt.margins(x=0.05)\n",
    "plt.legend()\n",
    "plt.show()"
   ]
  },
  {
   "cell_type": "code",
   "execution_count": null,
   "id": "23a1afe0",
   "metadata": {},
   "outputs": [],
   "source": []
  },
  {
   "cell_type": "code",
   "execution_count": null,
   "id": "174d60f4",
   "metadata": {},
   "outputs": [],
   "source": []
  }
 ],
 "metadata": {
  "kernelspec": {
   "display_name": "Python 3",
   "language": "python",
   "name": "python3"
  },
  "language_info": {
   "codemirror_mode": {
    "name": "ipython",
    "version": 3
   },
   "file_extension": ".py",
   "mimetype": "text/x-python",
   "name": "python",
   "nbconvert_exporter": "python",
   "pygments_lexer": "ipython3",
   "version": "3.9.5"
  }
 },
 "nbformat": 4,
 "nbformat_minor": 5
}
